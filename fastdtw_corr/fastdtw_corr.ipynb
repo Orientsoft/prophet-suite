{
 "cells": [
  {
   "cell_type": "code",
   "execution_count": 1,
   "metadata": {},
   "outputs": [],
   "source": [
    "import os\n",
    "import pandas as pd\n",
    "import matplotlib.pyplot as plt\n",
    "import numpy as np\n",
    "from dtw import dtw\n",
    "from dtw import accelerated_dtw\n",
    "from scipy.spatial.distance import cosine\n",
    "from fastdtw import fastdtw\n",
    "import itertools\n",
    "from  numpy.linalg import norm\n",
    "from sklearn.preprocessing import StandardScaler\n",
    "%matplotlib inline"
   ]
  },
  {
   "cell_type": "code",
   "execution_count": 2,
   "metadata": {},
   "outputs": [
    {
     "name": "stdout",
     "output_type": "stream",
     "text": [
      "['p1285-duA.pdf', '.ipynb_checkpoints', 'linux+实验报告模板2.doc', '1873578351.jpg']\n"
     ]
    }
   ],
   "source": [
    "# 查看路径\n",
    "dir = \"/home/liu/桌面\"  #根据自己目录修改\n",
    "print(os.listdir(dir))\n",
    "timeseries = pd.read_csv(\"/home/liu/files/files/repo/dtw/df_all.csv\",index_col=0)\n",
    "timeseries = timeseries.fillna(0)\n",
    "euclidean_norm = lambda x, y: np.abs(x - y)/(np.abs(x)+np.abs(y))    \n",
    "# euclidean_norm = lambda x, y: np.abs(x - y)"
   ]
  },
  {
   "cell_type": "code",
   "execution_count": 3,
   "metadata": {},
   "outputs": [
    {
     "name": "stderr",
     "output_type": "stream",
     "text": [
      "/home/liu/anaconda3/lib/python3.6/site-packages/ipykernel_launcher.py:8: SettingWithCopyWarning: \n",
      "A value is trying to be set on a copy of a slice from a DataFrame.\n",
      "Try using .loc[row_indexer,col_indexer] = value instead\n",
      "\n",
      "See the caveats in the documentation: http://pandas.pydata.org/pandas-docs/stable/indexing.html#indexing-view-versus-copy\n",
      "  \n"
     ]
    },
    {
     "name": "stdout",
     "output_type": "stream",
     "text": [
      "                 万能打印_count 生成万能当前打印任务_0 生成万能当前打印任务_3 生成万能当前打印任务_4  \\\n",
      "万能打印_count                0     0.480368     0.432457      0.41065   \n",
      "生成万能当前打印任务_0       0.480368            0     0.115571     0.173515   \n",
      "生成万能当前打印任务_3       0.432457     0.115571            0    0.0746558   \n",
      "生成万能当前打印任务_4        0.41065     0.173515    0.0746558            0   \n",
      "生成万能当前打印任务_count   0.373934     0.240318      0.15307    0.0888295   \n",
      "\n",
      "                 生成万能当前打印任务_count  \n",
      "万能打印_count               0.373934  \n",
      "生成万能当前打印任务_0             0.240318  \n",
      "生成万能当前打印任务_3              0.15307  \n",
      "生成万能当前打印任务_4            0.0888295  \n",
      "生成万能当前打印任务_count                0  \n"
     ]
    }
   ],
   "source": [
    "#计算相应的关系系数矩阵\n",
    "\n",
    "corr_data=pd.DataFrame(columns=timeseries.columns[:5],index=timeseries.columns[:5])\n",
    "#传入时序数据并且将其标准化之后返回\n",
    "def scale(timeseries):\n",
    "    scale=StandardScaler()\n",
    "    for i in timeseries.columns:\n",
    "        timeseries[i]=scale.fit_transform(timeseries[i].values.reshape(-1,1))\n",
    "    return timeseries\n",
    "\n",
    "#将标准化之后的矩阵计算相关系数矩阵\n",
    "def corrdata_fun(timeseries_scale):\n",
    "    for i in timeseries_scale.columns:\n",
    "        for j in timeseries_scale.columns:\n",
    "            distance,path=fastdtw(timeseries_scale[i],timeseries_scale[j],dist=euclidean_norm)\n",
    "            distance=distance/(2*len(timeseries_scale))\n",
    "            corr_data.loc[i,j]=distance\n",
    "            corr_data.loc[j,i]=distance\n",
    "    return corr_data\n",
    "timeseries_scale=scale(timeseries.iloc[:,:5])\n",
    "corr_data=corrdata_fun(timeseries_scale)\n",
    "print(corr_data)"
   ]
  },
  {
   "cell_type": "code",
   "execution_count": 4,
   "metadata": {},
   "outputs": [
    {
     "name": "stdout",
     "output_type": "stream",
     "text": [
      "CPU times: user 14.7 s, sys: 24 ms, total: 14.7 s\n",
      "Wall time: 14.7 s\n"
     ]
    }
   ],
   "source": [
    "%%time\n",
    "def time_num(time):\n",
    "    hour=time.split(\" \")[1].split(\":\")[0]\n",
    "    minu=time.split(\" \")[1].split(\":\")[1]\n",
    "    num=int(minu)+(int(hour)*60)\n",
    "    return num\n",
    "\n",
    "def num_time(num):\n",
    "    hour=num//60\n",
    "    min=num - hour * 60\n",
    "    return str(hour)+\":\"+str(min)\n",
    "\n",
    "#corr_data表示相关性矩阵\n",
    "#timeseries_scale表示经过标准化之后的矩阵\n",
    "#type表示属性种类\n",
    "def order(type_,num,corr_data,timeseries_scale):\n",
    "    order=list(corr_data.loc[type_].sort_values().index) \n",
    "    result=pd.DataFrame(index=order,columns=[\"Time\"])                   #result:最终的时间dataframe\n",
    "    for i in order:\n",
    "        x = timeseries_scale[type_].values.reshape(-1,1)\n",
    "        y = timeseries_scale[i].values.reshape(-1,1)\n",
    "        p1,b1 = fastdtw(x,y,dist=euclidean_norm)\n",
    "        b1=pd.DataFrame(b1)                          #b1是得到的路径DataFrame\n",
    "        the_result=b1[1][num]                        #the_result表示得到的时间点\n",
    "        result.loc[i,\"Time\"]=the_result\n",
    "    return result\n",
    "\n",
    "\n",
    "def influence(type,time,corr_data,timeseries_scale):\n",
    "    num = time_num(time)\n",
    "    all_influ=order(type,num,corr_data,timeseries_scale)\n",
    "    all_influ=all_influ.drop(index=type)\n",
    "    return all_influ['Time'].apply(num_time)\n",
    "\n",
    "\n",
    "all_influ=influence(\"万能打印_count\",\"2018-06-01 23:09\",corr_data,timeseries_scale)"
   ]
  },
  {
   "cell_type": "code",
   "execution_count": 6,
   "metadata": {},
   "outputs": [
    {
     "data": {
      "text/plain": [
       "生成万能当前打印任务_count    17:12\n",
       "生成万能当前打印任务_4        11:29\n",
       "生成万能当前打印任务_3        17:52\n",
       "生成万能当前打印任务_0        12:28\n",
       "Name: Time, dtype: object"
      ]
     },
     "execution_count": 6,
     "metadata": {},
     "output_type": "execute_result"
    }
   ],
   "source": [
    "all_influ"
   ]
  }
 ],
 "metadata": {
  "kernelspec": {
   "display_name": "Python 3",
   "language": "python",
   "name": "python3"
  },
  "language_info": {
   "codemirror_mode": {
    "name": "ipython",
    "version": 3
   },
   "file_extension": ".py",
   "mimetype": "text/x-python",
   "name": "python",
   "nbconvert_exporter": "python",
   "pygments_lexer": "ipython3",
   "version": "3.6.5"
  }
 },
 "nbformat": 4,
 "nbformat_minor": 2
}
